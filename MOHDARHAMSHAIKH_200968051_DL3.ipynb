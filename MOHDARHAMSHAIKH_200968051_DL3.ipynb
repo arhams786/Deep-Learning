{
  "cells": [
    {
      "cell_type": "code",
      "execution_count": null,
      "metadata": {
        "id": "iAyYsWskp9HC"
      },
      "outputs": [],
      "source": [
        "import tensorflow as tf"
      ]
    },
    {
      "cell_type": "code",
      "execution_count": null,
      "metadata": {
        "id": "Fb0G2hmcqC3n"
      },
      "outputs": [],
      "source": [
        "import numpy as np\n",
        "import pandas as pd\n",
        "import matplotlib.pyplot as plt"
      ]
    },
    {
      "cell_type": "code",
      "execution_count": null,
      "metadata": {
        "id": "82vzmd_aqG5O"
      },
      "outputs": [],
      "source": [
        "mnist=tf.keras.datasets.mnist"
      ]
    },
    {
      "cell_type": "code",
      "execution_count": null,
      "metadata": {
        "colab": {
          "base_uri": "https://localhost:8080/"
        },
        "id": "w-HhcfYUqNqW",
        "outputId": "65ff6a12-cc62-4941-daf6-b0c168a28535"
      },
      "outputs": [
        {
          "name": "stdout",
          "output_type": "stream",
          "text": [
            "Downloading data from https://storage.googleapis.com/tensorflow/tf-keras-datasets/mnist.npz\n",
            "11493376/11490434 [==============================] - 0s 0us/step\n",
            "11501568/11490434 [==============================] - 0s 0us/step\n"
          ]
        }
      ],
      "source": [
        "(x_train,y_train),(x_test,y_test)=mnist.load_data()"
      ]
    },
    {
      "cell_type": "code",
      "execution_count": null,
      "metadata": {
        "colab": {
          "base_uri": "https://localhost:8080/"
        },
        "id": "0CemLotIqbnl",
        "outputId": "29071b47-1c34-4382-b5e2-3b234a8e3082"
      },
      "outputs": [
        {
          "data": {
            "text/plain": [
              "(60000, 28, 28)"
            ]
          },
          "execution_count": 5,
          "metadata": {},
          "output_type": "execute_result"
        }
      ],
      "source": [
        "x_train.shape"
      ]
    },
    {
      "cell_type": "code",
      "execution_count": null,
      "metadata": {
        "colab": {
          "base_uri": "https://localhost:8080/"
        },
        "id": "FdVN3_3iqgO9",
        "outputId": "9802a0a4-d8dc-4048-a110-32648dd83f20"
      },
      "outputs": [
        {
          "data": {
            "text/plain": [
              "10"
            ]
          },
          "execution_count": 6,
          "metadata": {},
          "output_type": "execute_result"
        }
      ],
      "source": [
        "len(np.unique(y_test))"
      ]
    },
    {
      "cell_type": "code",
      "execution_count": null,
      "metadata": {
        "id": "nMD3H3I3qjLF"
      },
      "outputs": [],
      "source": [
        "#normalisation\n",
        "x_train=x_train/255.0\n",
        "x_test=x_test/255.0"
      ]
    },
    {
      "cell_type": "code",
      "execution_count": null,
      "metadata": {
        "id": "pOsKaNP_qtrG"
      },
      "outputs": [],
      "source": [
        "model1=tf.keras.Sequential()"
      ]
    },
    {
      "cell_type": "code",
      "execution_count": null,
      "metadata": {
        "id": "5BxovmYlq1-e"
      },
      "outputs": [],
      "source": [
        "\n",
        "\n",
        "model1.add(tf.keras.Input(shape=(28,28,1)))\n",
        "model1.add(tf.keras.layers.Conv2D(32, kernel_size=(3,3), activation=\"relu\", padding=\"valid\"))\n",
        "model1.add(tf.keras.layers.MaxPooling2D(pool_size=(2,2) , strides=2))\n",
        "model1.add(tf.keras.layers.Conv2D(64, kernel_size=(3,3), activation=\"relu\", padding=\"valid\"))\n",
        "model1.add(tf.keras.layers.MaxPooling2D(pool_size=(2,2) , strides=2))\n",
        "model1.add(tf.keras.layers.Conv2D(128, kernel_size=(3,3), activation=\"relu\", padding=\"valid\"))\n",
        "model1.add(tf.keras.layers.MaxPooling2D(pool_size=(2,2) , strides=2))\n",
        "model1.add(tf.keras.layers.Flatten())"
      ]
    },
    {
      "cell_type": "code",
      "execution_count": null,
      "metadata": {
        "id": "IunsmBNOryUt"
      },
      "outputs": [],
      "source": [
        "model1.add(tf.keras.layers.Dense(100,activation=\"relu\",name=\"HiddenLayer1\"))\n",
        "model1.add(tf.keras.layers.Dense(10,activation=\"softmax\",name=\"OutputLayer\"))"
      ]
    },
    {
      "cell_type": "code",
      "execution_count": null,
      "metadata": {
        "colab": {
          "base_uri": "https://localhost:8080/"
        },
        "id": "OLSKOAq6vdz1",
        "outputId": "22f6e914-f661-4887-d108-81f23cd46df6"
      },
      "outputs": [
        {
          "name": "stdout",
          "output_type": "stream",
          "text": [
            "Model: \"sequential\"\n",
            "_________________________________________________________________\n",
            " Layer (type)                Output Shape              Param #   \n",
            "=================================================================\n",
            " conv2d (Conv2D)             (None, 26, 26, 32)        320       \n",
            "                                                                 \n",
            " max_pooling2d (MaxPooling2D  (None, 13, 13, 32)       0         \n",
            " )                                                               \n",
            "                                                                 \n",
            " conv2d_1 (Conv2D)           (None, 11, 11, 64)        18496     \n",
            "                                                                 \n",
            " max_pooling2d_1 (MaxPooling  (None, 5, 5, 64)         0         \n",
            " 2D)                                                             \n",
            "                                                                 \n",
            " conv2d_2 (Conv2D)           (None, 3, 3, 128)         73856     \n",
            "                                                                 \n",
            " max_pooling2d_2 (MaxPooling  (None, 1, 1, 128)        0         \n",
            " 2D)                                                             \n",
            "                                                                 \n",
            " flatten (Flatten)           (None, 128)               0         \n",
            "                                                                 \n",
            " HiddenLayer1 (Dense)        (None, 100)               12900     \n",
            "                                                                 \n",
            " OutputLayer (Dense)         (None, 10)                1010      \n",
            "                                                                 \n",
            "=================================================================\n",
            "Total params: 106,582\n",
            "Trainable params: 106,582\n",
            "Non-trainable params: 0\n",
            "_________________________________________________________________\n"
          ]
        }
      ],
      "source": [
        "model1.summary()"
      ]
    },
    {
      "cell_type": "code",
      "execution_count": null,
      "metadata": {
        "colab": {
          "base_uri": "https://localhost:8080/"
        },
        "id": "-PWfwvq2vhil",
        "outputId": "1a8905b7-31cd-43be-d210-83d23b14c786"
      },
      "outputs": [
        {
          "name": "stdout",
          "output_type": "stream",
          "text": [
            "Epoch 1/10\n",
            "2700/2700 [==============================] - 20s 3ms/step - loss: 0.1930 - accuracy: 0.9396 - val_loss: 0.0677 - val_accuracy: 0.9788\n",
            "Epoch 2/10\n",
            "2700/2700 [==============================] - 9s 3ms/step - loss: 0.0700 - accuracy: 0.9782 - val_loss: 0.0559 - val_accuracy: 0.9833\n",
            "Epoch 3/10\n",
            "2700/2700 [==============================] - 9s 3ms/step - loss: 0.0491 - accuracy: 0.9849 - val_loss: 0.0538 - val_accuracy: 0.9843\n",
            "Epoch 4/10\n",
            "2700/2700 [==============================] - 10s 4ms/step - loss: 0.0390 - accuracy: 0.9877 - val_loss: 0.0390 - val_accuracy: 0.9903\n",
            "Epoch 5/10\n",
            "2700/2700 [==============================] - 10s 4ms/step - loss: 0.0299 - accuracy: 0.9899 - val_loss: 0.0417 - val_accuracy: 0.9885\n",
            "Epoch 6/10\n",
            "2700/2700 [==============================] - 9s 3ms/step - loss: 0.0231 - accuracy: 0.9925 - val_loss: 0.0521 - val_accuracy: 0.9855\n",
            "Epoch 7/10\n",
            "2700/2700 [==============================] - 9s 3ms/step - loss: 0.0195 - accuracy: 0.9938 - val_loss: 0.0613 - val_accuracy: 0.9848\n",
            "Epoch 8/10\n",
            "2700/2700 [==============================] - 9s 3ms/step - loss: 0.0177 - accuracy: 0.9944 - val_loss: 0.0446 - val_accuracy: 0.9898\n",
            "Epoch 9/10\n",
            "2700/2700 [==============================] - 9s 3ms/step - loss: 0.0147 - accuracy: 0.9951 - val_loss: 0.0547 - val_accuracy: 0.9878\n",
            "Epoch 10/10\n",
            "2700/2700 [==============================] - 9s 3ms/step - loss: 0.0138 - accuracy: 0.9955 - val_loss: 0.0541 - val_accuracy: 0.9892\n"
          ]
        }
      ],
      "source": [
        "model1.compile(loss = \"sparse_categorical_crossentropy\", optimizer = \"adam\", metrics = [\"accuracy\"])\n",
        "\n",
        "cnn1= model1.fit(x_train, y_train, batch_size = 20, epochs = 10, validation_split = 0.1)"
      ]
    },
    {
      "cell_type": "markdown",
      "metadata": {
        "id": "RSt-YJFRGjhi"
      },
      "source": [
        "TRAINING ACCURACY - 99.8%"
      ]
    },
    {
      "cell_type": "code",
      "execution_count": null,
      "metadata": {
        "colab": {
          "base_uri": "https://localhost:8080/"
        },
        "id": "XB2LXCSbRd0s",
        "outputId": "233a33c9-b7d2-420c-8c74-b2d33f2a51ab"
      },
      "outputs": [
        {
          "name": "stdout",
          "output_type": "stream",
          "text": [
            "313/313 [==============================] - 1s 3ms/step - loss: 0.0508 - accuracy: 0.9885\n"
          ]
        },
        {
          "data": {
            "text/plain": [
              "[0.050789594650268555, 0.9884999990463257]"
            ]
          },
          "execution_count": 13,
          "metadata": {},
          "output_type": "execute_result"
        }
      ],
      "source": [
        "model1.evaluate(x_test,y_test)"
      ]
    },
    {
      "cell_type": "markdown",
      "metadata": {
        "id": "Guz-zivDGpPo"
      },
      "source": [
        "TESTING ACCURACY-98.8%"
      ]
    },
    {
      "cell_type": "code",
      "execution_count": null,
      "metadata": {
        "colab": {
          "base_uri": "https://localhost:8080/",
          "height": 573
        },
        "id": "HnWudpl3DG6T",
        "outputId": "897b1619-5b81-4b20-aa5c-f949c075950a"
      },
      "outputs": [
        {
          "data": {
            "image/png": "[encoded data removed]",
            "text/plain": [
              "<Figure size 432x288 with 1 Axes>"
            ]
          },
          "metadata": {},
          "output_type": "display_data"
        },
        {
          "data": {
            "image/png": "[encoded data removed]",
            "text/plain": [
              "<Figure size 432x288 with 1 Axes>"
            ]
          },
          "metadata": {},
          "output_type": "display_data"
        }
      ],
      "source": [
        "# Plotting and Visualising\n",
        "\n",
        "\n",
        "\n",
        "l5acc = cnn1.history[\"accuracy\"]\n",
        "\n",
        "l5val_acc = cnn1.history[\"val_accuracy\"]\n",
        "\n",
        "l5lss = cnn1.history[\"loss\"]\n",
        "\n",
        "l5val_lss = cnn1.history[\"val_loss\"]\n",
        "\n",
        "epochs_list = [1,2,3,4,5,6,7,8,9,10]\n",
        "\n",
        "\n",
        "\n",
        "plt.plot(epochs_list, l5acc, 'blue', label='Training Accuracy')\n",
        "\n",
        "plt.plot(epochs_list, l5val_acc, 'red', label='Validation Accuracy')\n",
        "\n",
        "plt.xlabel('Epochs')\n",
        "\n",
        "plt.ylabel('Accuracy')\n",
        "\n",
        "plt.title('Accuracy curve with Epochs')\n",
        "\n",
        "plt.legend()\n",
        "\n",
        "plt.show()\n",
        "\n",
        "\n",
        "\n",
        "#Loss Plot\n",
        "\n",
        "plt.plot(epochs_list, l5lss, 'green', label=\"Loss\")\n",
        "\n",
        "plt.plot(epochs_list, l5val_lss, 'purple', label=\"Validation Loss\")\n",
        "\n",
        "plt.xlabel('Epochs')\n",
        "\n",
        "plt.ylabel('Loss')\n",
        "\n",
        "plt.title('Loss curve with Epochs')\n",
        "\n",
        "plt.legend()\n",
        "\n",
        "plt.show()"
      ]
    },
    {
      "cell_type": "code",
      "execution_count": null,
      "metadata": {
        "id": "xE3hWEPcDGub"
      },
      "outputs": [],
      "source": [
        ""
      ]
    },
    {
      "cell_type": "code",
      "execution_count": null,
      "metadata": {
        "id": "0pmzyYVr5pPb"
      },
      "outputs": [],
      "source": [
        "lenet = tf.keras.models.Sequential()\n",
        "lenet.add(tf.keras.Input(shape=(28,28,1)))\n",
        "lenet.add(tf.keras.layers.Conv2D(6, kernel_size=(5,5), strides=1,  activation='tanh', input_shape=x_train[0].shape, padding='same'))#C1\n",
        "lenet.add(tf.keras.layers.MaxPooling2D(pool_size=(2,2))) #S2\n",
        "lenet.add(tf.keras.layers.Conv2D(16, kernel_size=(5,5), strides=1, activation='tanh', padding='same'))#C3\n",
        "lenet.add(tf.keras.layers.MaxPooling2D(pool_size=(2,2))) #S4\n",
        "\n",
        "lenet.add(tf.keras.layers.Flatten()) #Flatten    \n",
        "lenet.add(tf.keras.layers.Dense(128,activation=\"tanh\",name=\"HiddenLayer1\"))\n",
        "lenet.add(tf.keras.layers.Dense(84,activation=\"tanh\",name=\"HiddenLayer2\"))\n",
        "\n",
        "lenet.add(tf.keras.layers.Dense(10,activation=\"softmax\",name=\"OutputLayer\"))\n"
      ]
    },
    {
      "cell_type": "code",
      "execution_count": null,
      "metadata": {
        "colab": {
          "base_uri": "https://localhost:8080/"
        },
        "id": "DLDu5_ta53jk",
        "outputId": "43caca94-8b3d-420c-d7e7-a3c6fa340e4f"
      },
      "outputs": [
        {
          "name": "stdout",
          "output_type": "stream",
          "text": [
            "Model: \"sequential_1\"\n",
            "_________________________________________________________________\n",
            " Layer (type)                Output Shape              Param #   \n",
            "=================================================================\n",
            " conv2d_3 (Conv2D)           (None, 28, 28, 6)         156       \n",
            "                                                                 \n",
            " max_pooling2d_3 (MaxPooling  (None, 14, 14, 6)        0         \n",
            " 2D)                                                             \n",
            "                                                                 \n",
            " conv2d_4 (Conv2D)           (None, 14, 14, 16)        2416      \n",
            "                                                                 \n",
            " max_pooling2d_4 (MaxPooling  (None, 7, 7, 16)         0         \n",
            " 2D)                                                             \n",
            "                                                                 \n",
            " flatten_1 (Flatten)         (None, 784)               0         \n",
            "                                                                 \n",
            " HiddenLayer1 (Dense)        (None, 128)               100480    \n",
            "                                                                 \n",
            " HiddenLayer2 (Dense)        (None, 84)                10836     \n",
            "                                                                 \n",
            " OutputLayer (Dense)         (None, 10)                850       \n",
            "                                                                 \n",
            "=================================================================\n",
            "Total params: 114,738\n",
            "Trainable params: 114,738\n",
            "Non-trainable params: 0\n",
            "_________________________________________________________________\n"
          ]
        }
      ],
      "source": [
        "lenet.summary()"
      ]
    },
    {
      "cell_type": "code",
      "execution_count": null,
      "metadata": {
        "colab": {
          "base_uri": "https://localhost:8080/"
        },
        "id": "E_EMuTVb9AKL",
        "outputId": "a23ed3fb-8580-40a8-81d1-4c89ce6aade2"
      },
      "outputs": [
        {
          "name": "stdout",
          "output_type": "stream",
          "text": [
            "Epoch 1/10\n",
            "2400/2400 [==============================] - 9s 3ms/step - loss: 0.1511 - accuracy: 0.9544 - val_loss: 0.0734 - val_accuracy: 0.9787\n",
            "Epoch 2/10\n",
            "2400/2400 [==============================] - 8s 3ms/step - loss: 0.0589 - accuracy: 0.9819 - val_loss: 0.0659 - val_accuracy: 0.9798\n",
            "Epoch 3/10\n",
            "2400/2400 [==============================] - 8s 3ms/step - loss: 0.0415 - accuracy: 0.9872 - val_loss: 0.0505 - val_accuracy: 0.9847\n",
            "Epoch 4/10\n",
            "2400/2400 [==============================] - 8s 3ms/step - loss: 0.0300 - accuracy: 0.9900 - val_loss: 0.0477 - val_accuracy: 0.9863\n",
            "Epoch 5/10\n",
            "2400/2400 [==============================] - 9s 4ms/step - loss: 0.0242 - accuracy: 0.9923 - val_loss: 0.0546 - val_accuracy: 0.9846\n",
            "Epoch 6/10\n",
            "2400/2400 [==============================] - 8s 3ms/step - loss: 0.0192 - accuracy: 0.9937 - val_loss: 0.0527 - val_accuracy: 0.9867\n",
            "Epoch 7/10\n",
            "2400/2400 [==============================] - 8s 3ms/step - loss: 0.0186 - accuracy: 0.9937 - val_loss: 0.0541 - val_accuracy: 0.9859\n",
            "Epoch 8/10\n",
            "2400/2400 [==============================] - 8s 3ms/step - loss: 0.0143 - accuracy: 0.9952 - val_loss: 0.0711 - val_accuracy: 0.9817\n",
            "Epoch 9/10\n",
            "2400/2400 [==============================] - 8s 3ms/step - loss: 0.0134 - accuracy: 0.9956 - val_loss: 0.0517 - val_accuracy: 0.9870\n",
            "Epoch 10/10\n",
            "2400/2400 [==============================] - 8s 3ms/step - loss: 0.0133 - accuracy: 0.9954 - val_loss: 0.0559 - val_accuracy: 0.9858\n"
          ]
        }
      ],
      "source": [
        "lenet.compile(loss = \"sparse_categorical_crossentropy\", optimizer = \"adam\", metrics = [\"accuracy\"])\n",
        "\n",
        "lenet1 = lenet.fit(x_train, y_train, batch_size = 20, epochs = 10, validation_split = 0.2)"
      ]
    },
    {
      "cell_type": "markdown",
      "metadata": {
        "id": "Bt9yejMcGwVy"
      },
      "source": [
        "TRAINING ACCURACY- 99.5%"
      ]
    },
    {
      "cell_type": "code",
      "execution_count": null,
      "metadata": {
        "colab": {
          "base_uri": "https://localhost:8080/"
        },
        "id": "Oiw1pB1t9G3q",
        "outputId": "328db980-01de-49d9-a71d-b5bbe6d2d22b"
      },
      "outputs": [
        {
          "name": "stdout",
          "output_type": "stream",
          "text": [
            "313/313 [==============================] - 1s 3ms/step - loss: 0.0472 - accuracy: 0.9871\n"
          ]
        },
        {
          "data": {
            "text/plain": [
              "[0.047207463532686234, 0.9871000051498413]"
            ]
          },
          "execution_count": 18,
          "metadata": {},
          "output_type": "execute_result"
        }
      ],
      "source": [
        "lenet.evaluate(x_test,y_test)"
      ]
    },
    {
      "cell_type": "markdown",
      "metadata": {
        "id": "wqN5kxB_G1mA"
      },
      "source": [
        "TESTING ACCURACY- 98%"
      ]
    },
    {
      "cell_type": "code",
      "execution_count": null,
      "metadata": {
        "colab": {
          "base_uri": "https://localhost:8080/",
          "height": 573
        },
        "id": "95agm3nLAIHK",
        "outputId": "8f44be97-dfa7-44ea-d97c-d3091c1b5360"
      },
      "outputs": [
        {
          "data": {
            "image/png": "[encoded data removed]",
            "text/plain": [
              "<Figure size 432x288 with 1 Axes>"
            ]
          },
          "metadata": {},
          "output_type": "display_data"
        },
        {
          "data": {
            "image/png": "[encoded data removed]",
            "text/plain": [
              "<Figure size 432x288 with 1 Axes>"
            ]
          },
          "metadata": {},
          "output_type": "display_data"
        }
      ],
      "source": [
        "# Plotting and Visualising\n",
        "\n",
        "\n",
        "\n",
        "l5acc = lenet1.history[\"accuracy\"]\n",
        "\n",
        "l5val_acc = lenet1.history[\"val_accuracy\"]\n",
        "\n",
        "l5lss = lenet1.history[\"loss\"]\n",
        "\n",
        "l5val_lss = lenet1.history[\"val_loss\"]\n",
        "\n",
        "epochs_list = [1,2,3,4,5,6,7,8,9,10]\n",
        "\n",
        "\n",
        "\n",
        "plt.plot(epochs_list, l5acc, 'blue', label='Training Accuracy')\n",
        "\n",
        "plt.plot(epochs_list, l5val_acc, 'red', label='Validation Accuracy')\n",
        "\n",
        "plt.xlabel('Epochs')\n",
        "\n",
        "plt.ylabel('Accuracy')\n",
        "\n",
        "plt.title('Accuracy curve with Epochs')\n",
        "\n",
        "plt.legend()\n",
        "\n",
        "plt.show()\n",
        "\n",
        "\n",
        "\n",
        "#Loss Plot\n",
        "\n",
        "plt.plot(epochs_list, l5lss, 'green', label=\"Loss\")\n",
        "\n",
        "plt.plot(epochs_list, l5val_lss, 'purple', label=\"Validation Loss\")\n",
        "\n",
        "plt.xlabel('Epochs')\n",
        "\n",
        "plt.ylabel('Loss')\n",
        "\n",
        "plt.title('Loss curve with Epochs')\n",
        "\n",
        "plt.legend()\n",
        "\n",
        "plt.show()"
      ]
    },
    {
      "cell_type": "code",
      "execution_count": null,
      "metadata": {
        "id": "cWVvGiMzDKXL"
      },
      "outputs": [],
      "source": [
        "#CIFAR10"
      ]
    },
    {
      "cell_type": "code",
      "execution_count": 33,
      "metadata": {
        "id": "xjbwh9_wDKVC"
      },
      "outputs": [],
      "source": [
        "cifar=tf.keras.datasets.cifar10"
      ]
    },
    {
      "cell_type": "code",
      "execution_count": 34,
      "metadata": {
        "id": "HrDJ8MnjDKSb"
      },
      "outputs": [],
      "source": [
        "(X_train,Y_train),(X_test,Y_test)=cifar.load_data()"
      ]
    },
    {
      "cell_type": "code",
      "execution_count": 35,
      "metadata": {
        "id": "dfv_BbESDKPy"
      },
      "outputs": [],
      "source": [
        "X_train=X_train/255.0\n",
        "X_test=X_test/255.0"
      ]
    },
    {
      "cell_type": "code",
      "execution_count": 35,
      "metadata": {
        "id": "xvr6B2Z4DKNL"
      },
      "outputs": [],
      "source": [
        ""
      ]
    },
    {
      "cell_type": "code",
      "execution_count": 35,
      "metadata": {
        "id": "CBo5KkaGEykq"
      },
      "outputs": [],
      "source": [
        ""
      ]
    },
    {
      "cell_type": "code",
      "execution_count": 36,
      "metadata": {
        "id": "dGsXpzfLEBqb"
      },
      "outputs": [],
      "source": [
        "model3=tf.keras.Sequential()\n",
        "model3.add(tf.keras.Input(shape=(32,32,3)))\n",
        "model3.add(tf.keras.layers.Conv2D(32, kernel_size=(3,3), activation=\"relu\" , padding= \"same\"))\n",
        "model3.add(tf.keras.layers.MaxPooling2D(pool_size=(2,2) , strides=1))\n",
        "\n",
        "model3.add(tf.keras.layers.Flatten())"
      ]
    },
    {
      "cell_type": "code",
      "execution_count": 37,
      "metadata": {
        "id": "X-7M5-c9EIWb"
      },
      "outputs": [],
      "source": [
        "model3.add(tf.keras.layers.Dense(100,activation=\"relu\",name=\"HiddenLayer1\"))\n",
        "model3.add(tf.keras.layers.Dense(10,activation=\"softmax\",name=\"OutputLayer\"))"
      ]
    },
    {
      "cell_type": "code",
      "execution_count": 38,
      "metadata": {
        "colab": {
          "base_uri": "https://localhost:8080/"
        },
        "id": "r8Pfk6ydENCS",
        "outputId": "bc134590-88a4-4cb7-b0e1-37816ff3a49a"
      },
      "outputs": [
        {
          "output_type": "stream",
          "name": "stdout",
          "text": [
            "Model: \"sequential_4\"\n",
            "_________________________________________________________________\n",
            " Layer (type)                Output Shape              Param #   \n",
            "=================================================================\n",
            " conv2d_7 (Conv2D)           (None, 32, 32, 32)        896       \n",
            "                                                                 \n",
            " max_pooling2d_7 (MaxPooling  (None, 31, 31, 32)       0         \n",
            " 2D)                                                             \n",
            "                                                                 \n",
            " flatten_4 (Flatten)         (None, 30752)             0         \n",
            "                                                                 \n",
            " HiddenLayer1 (Dense)        (None, 100)               3075300   \n",
            "                                                                 \n",
            " OutputLayer (Dense)         (None, 10)                1010      \n",
            "                                                                 \n",
            "=================================================================\n",
            "Total params: 3,077,206\n",
            "Trainable params: 3,077,206\n",
            "Non-trainable params: 0\n",
            "_________________________________________________________________\n"
          ]
        }
      ],
      "source": [
        "model3.summary()"
      ]
    },
    {
      "cell_type": "code",
      "execution_count": 39,
      "metadata": {
        "colab": {
          "base_uri": "https://localhost:8080/"
        },
        "id": "P74IlMHLETEB",
        "outputId": "0d79fbb5-0629-40b3-aa9d-a195d3efc87d"
      },
      "outputs": [
        {
          "output_type": "stream",
          "name": "stdout",
          "text": [
            "Epoch 1/15\n",
            "2250/2250 [==============================] - 8s 3ms/step - loss: 1.4744 - accuracy: 0.4776 - val_loss: 1.2586 - val_accuracy: 0.5578\n",
            "Epoch 2/15\n",
            "2250/2250 [==============================] - 7s 3ms/step - loss: 1.1626 - accuracy: 0.5939 - val_loss: 1.1492 - val_accuracy: 0.6018\n",
            "Epoch 3/15\n",
            "2250/2250 [==============================] - 7s 3ms/step - loss: 1.0550 - accuracy: 0.6307 - val_loss: 1.0961 - val_accuracy: 0.6194\n",
            "Epoch 4/15\n",
            "2250/2250 [==============================] - 7s 3ms/step - loss: 0.9811 - accuracy: 0.6545 - val_loss: 1.0681 - val_accuracy: 0.6296\n",
            "Epoch 5/15\n",
            "2250/2250 [==============================] - 7s 3ms/step - loss: 0.9220 - accuracy: 0.6779 - val_loss: 1.0874 - val_accuracy: 0.6282\n",
            "Epoch 6/15\n",
            "2250/2250 [==============================] - 7s 3ms/step - loss: 0.8688 - accuracy: 0.6961 - val_loss: 1.1369 - val_accuracy: 0.6250\n",
            "Epoch 7/15\n",
            "2250/2250 [==============================] - 7s 3ms/step - loss: 0.8193 - accuracy: 0.7108 - val_loss: 1.0710 - val_accuracy: 0.6448\n",
            "Epoch 8/15\n",
            "2250/2250 [==============================] - 7s 3ms/step - loss: 0.7789 - accuracy: 0.7276 - val_loss: 1.0783 - val_accuracy: 0.6520\n",
            "Epoch 9/15\n",
            "2250/2250 [==============================] - 7s 3ms/step - loss: 0.7338 - accuracy: 0.7414 - val_loss: 1.1117 - val_accuracy: 0.6416\n",
            "Epoch 10/15\n",
            "2250/2250 [==============================] - 7s 3ms/step - loss: 0.6964 - accuracy: 0.7531 - val_loss: 1.1910 - val_accuracy: 0.6324\n",
            "Epoch 11/15\n",
            "2250/2250 [==============================] - 7s 3ms/step - loss: 0.6574 - accuracy: 0.7656 - val_loss: 1.2123 - val_accuracy: 0.6210\n",
            "Epoch 12/15\n",
            "2250/2250 [==============================] - 7s 3ms/step - loss: 0.6201 - accuracy: 0.7809 - val_loss: 1.2081 - val_accuracy: 0.6374\n",
            "Epoch 13/15\n",
            "2250/2250 [==============================] - 7s 3ms/step - loss: 0.5828 - accuracy: 0.7947 - val_loss: 1.2596 - val_accuracy: 0.6328\n",
            "Epoch 14/15\n",
            "2250/2250 [==============================] - 7s 3ms/step - loss: 0.5562 - accuracy: 0.8005 - val_loss: 1.3335 - val_accuracy: 0.6280\n",
            "Epoch 15/15\n",
            "2250/2250 [==============================] - 7s 3ms/step - loss: 0.5268 - accuracy: 0.8130 - val_loss: 1.3711 - val_accuracy: 0.6216\n"
          ]
        }
      ],
      "source": [
        "model3.compile(loss = \"sparse_categorical_crossentropy\", optimizer = \"adam\", metrics = [\"accuracy\"])\n",
        "\n",
        "cnn2 = model3.fit(X_train, Y_train, batch_size = 20, epochs = 15, validation_split = 0.1)"
      ]
    },
    {
      "cell_type": "markdown",
      "metadata": {
        "id": "Jh1AmBf9G7px"
      },
      "source": [
        "TRAINING ACCURACY-81.3%"
      ]
    },
    {
      "cell_type": "code",
      "execution_count": 39,
      "metadata": {
        "id": "lJoe9lPlEayK"
      },
      "outputs": [],
      "source": [
        ""
      ]
    },
    {
      "cell_type": "code",
      "execution_count": 40,
      "metadata": {
        "colab": {
          "base_uri": "https://localhost:8080/"
        },
        "id": "yPSCou1cLlgr",
        "outputId": "b3565334-7de7-4fbd-dd45-032c50d0a27c"
      },
      "outputs": [
        {
          "output_type": "stream",
          "name": "stdout",
          "text": [
            "313/313 [==============================] - 1s 3ms/step - loss: 1.4667 - accuracy: 0.5963\n"
          ]
        },
        {
          "output_type": "execute_result",
          "data": {
            "text/plain": [
              "[1.4666887521743774, 0.5963000059127808]"
            ]
          },
          "metadata": {},
          "execution_count": 40
        }
      ],
      "source": [
        "model3.evaluate(X_test,Y_test)"
      ]
    },
    {
      "cell_type": "markdown",
      "metadata": {
        "id": "ToSxHAjRHA8T"
      },
      "source": [
        "TESTING ACCURACY-59.6%"
      ]
    },
    {
      "cell_type": "code",
      "execution_count": 42,
      "metadata": {
        "colab": {
          "base_uri": "https://localhost:8080/",
          "height": 573
        },
        "id": "TWNnellDLwhT",
        "outputId": "eb622f07-cd0e-4d59-fdac-920977bb5913"
      },
      "outputs": [
        {
          "output_type": "display_data",
          "data": {
            "text/plain": [
              "<Figure size 432x288 with 1 Axes>"
            ],
            "image/png": "[encoded data removed]"
          },
          "metadata": {
            "needs_background": "light"
          }
        },
        {
          "output_type": "display_data",
          "data": {
            "text/plain": [
              "<Figure size 432x288 with 1 Axes>"
            ],
            "image/png": "[encoded data removed]"
          },
          "metadata": {
            "needs_background": "light"
          }
        }
      ],
      "source": [
        "# Plotting and Visualising\n",
        "\n",
        "\n",
        "\n",
        "l5acc = cnn2.history[\"accuracy\"]\n",
        "\n",
        "l5val_acc = cnn2.history[\"val_accuracy\"]\n",
        "\n",
        "l5lss = cnn2.history[\"loss\"]\n",
        "\n",
        "l5val_lss = cnn2.history[\"val_loss\"]\n",
        "\n",
        "epochs_list = [1,2,3,4,5,6,7,8,9,10,11,12,13,14,15]\n",
        "\n",
        "\n",
        "\n",
        "plt.plot(epochs_list, l5acc, 'blue', label='Training Accuracy')\n",
        "\n",
        "plt.plot(epochs_list, l5val_acc, 'red', label='Validation Accuracy')\n",
        "\n",
        "plt.xlabel('Epochs')\n",
        "\n",
        "plt.ylabel('Accuracy')\n",
        "\n",
        "plt.title('Accuracy curve with Epochs')\n",
        "\n",
        "plt.legend()\n",
        "\n",
        "plt.show()\n",
        "\n",
        "\n",
        "\n",
        "#Loss Plot\n",
        "\n",
        "plt.plot(epochs_list, l5lss, 'green', label=\"Loss\")\n",
        "\n",
        "plt.plot(epochs_list, l5val_lss, 'purple', label=\"Validation Loss\")\n",
        "\n",
        "plt.xlabel('Epochs')\n",
        "\n",
        "plt.ylabel('Loss')\n",
        "\n",
        "plt.title('Loss curve with Epochs')\n",
        "\n",
        "plt.legend()\n",
        "\n",
        "plt.show()"
      ]
    },
    {
      "cell_type": "code",
      "execution_count": 43,
      "metadata": {
        "id": "xSczZLprL3sr"
      },
      "outputs": [],
      "source": [
        "lenet1 = tf.keras.models.Sequential()\n",
        "lenet1.add(tf.keras.Input(shape=(32,32,3)))\n",
        "lenet1.add(tf.keras.layers.Conv2D(6, kernel_size=(5,5), strides=1,  activation='tanh', input_shape=X_train[0].shape, padding='same'))#C1\n",
        "lenet1.add(tf.keras.layers.MaxPooling2D(pool_size=(2,2))) #S2\n",
        "lenet1.add(tf.keras.layers.Conv2D(16, kernel_size=(5,5), strides=1, activation='tanh', padding='same'))#C3\n",
        "lenet1.add(tf.keras.layers.MaxPooling2D(pool_size=(2,2))) #S4\n",
        "\n",
        "lenet1.add(tf.keras.layers.Flatten()) #Flatten    \n",
        "lenet1.add(tf.keras.layers.Dense(120,activation=\"tanh\",name=\"HiddenLayerr1\"))\n",
        "lenet1.add(tf.keras.layers.Dense(84,activation=\"tanh\",name=\"HiddenLayerr2\")) \n",
        "lenet1.add(tf.keras.layers.Dense(10,activation=\"softmax\",name=\"OutputLayerr\"))"
      ]
    },
    {
      "cell_type": "code",
      "execution_count": 44,
      "metadata": {
        "colab": {
          "base_uri": "https://localhost:8080/"
        },
        "id": "e5zzBjSGMFIr",
        "outputId": "9d5d0d91-db64-4c14-b424-6169a65fc828"
      },
      "outputs": [
        {
          "output_type": "stream",
          "name": "stdout",
          "text": [
            "Model: \"sequential_5\"\n",
            "_________________________________________________________________\n",
            " Layer (type)                Output Shape              Param #   \n",
            "=================================================================\n",
            " conv2d_8 (Conv2D)           (None, 32, 32, 6)         456       \n",
            "                                                                 \n",
            " max_pooling2d_8 (MaxPooling  (None, 16, 16, 6)        0         \n",
            " 2D)                                                             \n",
            "                                                                 \n",
            " conv2d_9 (Conv2D)           (None, 16, 16, 16)        2416      \n",
            "                                                                 \n",
            " max_pooling2d_9 (MaxPooling  (None, 8, 8, 16)         0         \n",
            " 2D)                                                             \n",
            "                                                                 \n",
            " flatten_5 (Flatten)         (None, 1024)              0         \n",
            "                                                                 \n",
            " HiddenLayerr1 (Dense)       (None, 120)               123000    \n",
            "                                                                 \n",
            " HiddenLayerr2 (Dense)       (None, 84)                10164     \n",
            "                                                                 \n",
            " OutputLayerr (Dense)        (None, 10)                850       \n",
            "                                                                 \n",
            "=================================================================\n",
            "Total params: 136,886\n",
            "Trainable params: 136,886\n",
            "Non-trainable params: 0\n",
            "_________________________________________________________________\n"
          ]
        }
      ],
      "source": [
        "lenet1.summary()"
      ]
    },
    {
      "cell_type": "code",
      "execution_count": 45,
      "metadata": {
        "colab": {
          "base_uri": "https://localhost:8080/"
        },
        "id": "skRSOjKnMMgK",
        "outputId": "b44e6d06-e252-4048-ea1a-44aee27042bd"
      },
      "outputs": [
        {
          "output_type": "stream",
          "name": "stdout",
          "text": [
            "Epoch 1/20\n",
            "2000/2000 [==============================] - 9s 4ms/step - loss: 1.5110 - accuracy: 0.4606 - val_loss: 1.3169 - val_accuracy: 0.5274\n",
            "Epoch 2/20\n",
            "2000/2000 [==============================] - 7s 4ms/step - loss: 1.2101 - accuracy: 0.5740 - val_loss: 1.1781 - val_accuracy: 0.5876\n",
            "Epoch 3/20\n",
            "2000/2000 [==============================] - 7s 4ms/step - loss: 1.0788 - accuracy: 0.6221 - val_loss: 1.1055 - val_accuracy: 0.6139\n",
            "Epoch 4/20\n",
            "2000/2000 [==============================] - 7s 4ms/step - loss: 0.9771 - accuracy: 0.6575 - val_loss: 1.0626 - val_accuracy: 0.6291\n",
            "Epoch 5/20\n",
            "2000/2000 [==============================] - 7s 3ms/step - loss: 0.8854 - accuracy: 0.6894 - val_loss: 1.1056 - val_accuracy: 0.6157\n",
            "Epoch 6/20\n",
            "2000/2000 [==============================] - 7s 4ms/step - loss: 0.7985 - accuracy: 0.7190 - val_loss: 1.0951 - val_accuracy: 0.6181\n",
            "Epoch 7/20\n",
            "2000/2000 [==============================] - 7s 4ms/step - loss: 0.7238 - accuracy: 0.7472 - val_loss: 1.1107 - val_accuracy: 0.6216\n",
            "Epoch 8/20\n",
            "2000/2000 [==============================] - 7s 4ms/step - loss: 0.6428 - accuracy: 0.7755 - val_loss: 1.1373 - val_accuracy: 0.6262\n",
            "Epoch 9/20\n",
            "2000/2000 [==============================] - 8s 4ms/step - loss: 0.5789 - accuracy: 0.7986 - val_loss: 1.2109 - val_accuracy: 0.6123\n",
            "Epoch 10/20\n",
            "2000/2000 [==============================] - 8s 4ms/step - loss: 0.5059 - accuracy: 0.8262 - val_loss: 1.2456 - val_accuracy: 0.6084\n",
            "Epoch 11/20\n",
            "2000/2000 [==============================] - 7s 4ms/step - loss: 0.4536 - accuracy: 0.8440 - val_loss: 1.3439 - val_accuracy: 0.6098\n",
            "Epoch 12/20\n",
            "2000/2000 [==============================] - 7s 4ms/step - loss: 0.3899 - accuracy: 0.8683 - val_loss: 1.3910 - val_accuracy: 0.6103\n",
            "Epoch 13/20\n",
            "2000/2000 [==============================] - 7s 4ms/step - loss: 0.3434 - accuracy: 0.8853 - val_loss: 1.4888 - val_accuracy: 0.5999\n",
            "Epoch 14/20\n",
            "2000/2000 [==============================] - 7s 4ms/step - loss: 0.3071 - accuracy: 0.8963 - val_loss: 1.5457 - val_accuracy: 0.6048\n",
            "Epoch 15/20\n",
            "2000/2000 [==============================] - 7s 4ms/step - loss: 0.2697 - accuracy: 0.9091 - val_loss: 1.6622 - val_accuracy: 0.5898\n",
            "Epoch 16/20\n",
            "2000/2000 [==============================] - 7s 4ms/step - loss: 0.2487 - accuracy: 0.9154 - val_loss: 1.7192 - val_accuracy: 0.5925\n",
            "Epoch 17/20\n",
            "2000/2000 [==============================] - 7s 4ms/step - loss: 0.2282 - accuracy: 0.9229 - val_loss: 1.7998 - val_accuracy: 0.5930\n",
            "Epoch 18/20\n",
            "2000/2000 [==============================] - 7s 3ms/step - loss: 0.2106 - accuracy: 0.9293 - val_loss: 1.8642 - val_accuracy: 0.5909\n",
            "Epoch 19/20\n",
            "2000/2000 [==============================] - 7s 4ms/step - loss: 0.1958 - accuracy: 0.9343 - val_loss: 1.9263 - val_accuracy: 0.5864\n",
            "Epoch 20/20\n",
            "2000/2000 [==============================] - 7s 3ms/step - loss: 0.1813 - accuracy: 0.9391 - val_loss: 1.9928 - val_accuracy: 0.5885\n"
          ]
        }
      ],
      "source": [
        "lenet1.compile(loss = \"sparse_categorical_crossentropy\", optimizer = \"adam\", metrics = [\"accuracy\"])\n",
        "\n",
        "lenet2 = lenet1.fit(X_train, Y_train, batch_size = 20, epochs = 20, validation_split = 0.2)"
      ]
    },
    {
      "cell_type": "markdown",
      "source": [
        "Training accuracy-93%"
      ],
      "metadata": {
        "id": "NhGgSq9ephxo"
      }
    },
    {
      "cell_type": "code",
      "execution_count": null,
      "metadata": {
        "id": "fFfe8YhZN0Vd"
      },
      "outputs": [],
      "source": [
        ""
      ]
    },
    {
      "cell_type": "code",
      "execution_count": 46,
      "metadata": {
        "colab": {
          "base_uri": "https://localhost:8080/"
        },
        "id": "zrghRkF6MRAB",
        "outputId": "bb1d32ad-782e-478d-edf7-079af21cbec0"
      },
      "outputs": [
        {
          "output_type": "stream",
          "name": "stdout",
          "text": [
            "313/313 [==============================] - 1s 3ms/step - loss: 2.0230 - accuracy: 0.5923\n"
          ]
        },
        {
          "output_type": "execute_result",
          "data": {
            "text/plain": [
              "[2.0230445861816406, 0.5922999978065491]"
            ]
          },
          "metadata": {},
          "execution_count": 46
        }
      ],
      "source": [
        "lenet1.evaluate(X_test,Y_test)"
      ]
    },
    {
      "cell_type": "markdown",
      "source": [
        "Testing accuracy-59%"
      ],
      "metadata": {
        "id": "32zMWC4xprqt"
      }
    },
    {
      "cell_type": "code",
      "execution_count": null,
      "metadata": {
        "id": "67ubOH8yNzCC"
      },
      "outputs": [],
      "source": [
        ""
      ]
    },
    {
      "cell_type": "code",
      "execution_count": null,
      "metadata": {
        "colab": {
          "base_uri": "https://localhost:8080/",
          "height": 295
        },
        "id": "J2lHknW7KFEq",
        "outputId": "15532352-d75e-4a88-98d1-3d7a421d2770"
      },
      "outputs": [
        {
          "data": {
            "image/png": "[encoded data removed]",
            "text/plain": [
              "<Figure size 432x288 with 1 Axes>"
            ]
          },
          "metadata": {},
          "output_type": "display_data"
        }
      ],
      "source": [
        ""
      ]
    },
    {
      "cell_type": "code",
      "execution_count": 47,
      "metadata": {
        "id": "EUppoxg0KP-V",
        "colab": {
          "base_uri": "https://localhost:8080/",
          "height": 573
        },
        "outputId": "428da246-e09f-4e09-8856-14e5f9490b49"
      },
      "outputs": [
        {
          "output_type": "display_data",
          "data": {
            "text/plain": [
              "<Figure size 432x288 with 1 Axes>"
            ],
            "image/png": "[encoded data removed]"
          },
          "metadata": {
            "needs_background": "light"
          }
        },
        {
          "output_type": "display_data",
          "data": {
            "text/plain": [
              "<Figure size 432x288 with 1 Axes>"
            ],
            "image/png": "[encoded data removed]"
          },
          "metadata": {
            "needs_background": "light"
          }
        }
      ],
      "source": [
        "# Plotting and Visualising\n",
        "\n",
        "\n",
        "\n",
        "l5acc = lenet2.history[\"accuracy\"]\n",
        "\n",
        "l5val_acc = lenet2.history[\"val_accuracy\"]\n",
        "\n",
        "l5lss = lenet2.history[\"loss\"]\n",
        "\n",
        "l5val_lss = lenet2.history[\"val_loss\"]\n",
        "\n",
        "epochs_list = [1,2,3,4,5,6,7,8,9,10,11,12,13,14,15,16,17,18,19,20]\n",
        "\n",
        "\n",
        "\n",
        "plt.plot(epochs_list, l5acc, 'blue', label='Training Accuracy')\n",
        "\n",
        "plt.plot(epochs_list, l5val_acc, 'red', label='Validation Accuracy')\n",
        "\n",
        "plt.xlabel('Epochs')\n",
        "\n",
        "plt.ylabel('Accuracy')\n",
        "\n",
        "plt.title('Accuracy curve with Epochs')\n",
        "\n",
        "plt.legend()\n",
        "\n",
        "plt.show()\n",
        "\n",
        "\n",
        "\n",
        "#Loss Plot\n",
        "\n",
        "plt.plot(epochs_list, l5lss, 'green', label=\"Loss\")\n",
        "\n",
        "plt.plot(epochs_list, l5val_lss, 'purple', label=\"Validation Loss\")\n",
        "\n",
        "plt.xlabel('Epochs')\n",
        "\n",
        "plt.ylabel('Loss')\n",
        "\n",
        "plt.title('Loss curve with Epochs')\n",
        "\n",
        "plt.legend()\n",
        "\n",
        "plt.show()"
      ]
    },
    {
      "cell_type": "code",
      "source": [
        ""
      ],
      "metadata": {
        "id": "Y0yQp7xip89A"
      },
      "execution_count": null,
      "outputs": []
    },
    {
      "cell_type": "markdown",
      "source": [
        "SUMMARY\n",
        "\n",
        "On MNIST\n",
        "\n",
        "Lenet-5 gives better test accuracy (59.6%)\n",
        "\n",
        "CNN model gives better training accuracy (81.3%)\n",
        "\n",
        "On CIFAR-10 dataset\n",
        "\n",
        "CNN Model gives better test accuracy (59.6%)\n",
        "\n",
        "Lenet-5 Architecture gives better training accuracy (93%)"
      ],
      "metadata": {
        "id": "p6NqXFxEqPaN"
      }
    },
    {
      "cell_type": "code",
      "source": [
        ""
      ],
      "metadata": {
        "id": "2GQd0qnhr9D7"
      },
      "execution_count": null,
      "outputs": []
    }
  ],
  "metadata": {
    "accelerator": "GPU",
    "colab": {
      "collapsed_sections": [],
      "name": "MOHDARHAMSHAIKH_200968051_DL3.ipynb",
      "provenance": []
    },
    "gpuClass": "standard",
    "kernelspec": {
      "display_name": "Python 3",
      "name": "python3"
    },
    "language_info": {
      "name": "python"
    }
  },
  "nbformat": 4,
  "nbformat_minor": 0
}