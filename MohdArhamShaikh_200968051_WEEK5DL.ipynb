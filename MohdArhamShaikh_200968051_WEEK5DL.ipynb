{
  "nbformat": 4,
  "nbformat_minor": 0,
  "metadata": {
    "colab": {
      "name": "MohdArhamShaikh_200968051_WEEK5DL.ipynb",
      "provenance": []
    },
    "kernelspec": {
      "name": "python3",
      "display_name": "Python 3"
    },
    "language_info": {
      "name": "python"
    }
  },
  "cells": [
    {
      "cell_type": "markdown",
      "source": [
        "MOHD ARHAM SHAIKH\n",
        "200968051\n",
        "WEEK5 "
      ],
      "metadata": {
        "id": "fXf8jJnxikHl"
      }
    },
    {
      "cell_type": "markdown",
      "source": [
        "**IMPORTING LIBRARIES**"
      ],
      "metadata": {
        "id": "Z3nlwnegjN5d"
      }
    },
    {
      "cell_type": "code",
      "execution_count": 1,
      "metadata": {
        "id": "c5HERFrPEYIS"
      },
      "outputs": [],
      "source": [
        "import pandas as pd \n",
        "import numpy as np\n",
        "import tensorflow as tf\n",
        "import matplotlib.pyplot as plt"
      ]
    },
    {
      "cell_type": "markdown",
      "source": [
        "**IMPORTING DATASET**"
      ],
      "metadata": {
        "id": "G7_HmaECjWHe"
      }
    },
    {
      "cell_type": "code",
      "source": [
        "from sklearn.datasets import fetch_california_housing\n",
        "\n",
        "california_housing = fetch_california_housing(as_frame=True)"
      ],
      "metadata": {
        "id": "ZiBPMjIHExNR"
      },
      "execution_count": 2,
      "outputs": []
    },
    {
      "cell_type": "code",
      "source": [
        "california_housing.frame.head()"
      ],
      "metadata": {
        "colab": {
          "base_uri": "https://localhost:8080/",
          "height": 206
        },
        "id": "1GZz2qQiFCHu",
        "outputId": "3d7d9f44-0cf4-4d0b-f564-616c072458f1"
      },
      "execution_count": 3,
      "outputs": [
        {
          "output_type": "execute_result",
          "data": {
            "text/plain": [
              "   MedInc  HouseAge  AveRooms  AveBedrms  Population  AveOccup  Latitude  \\\n",
              "0  8.3252      41.0  6.984127   1.023810       322.0  2.555556     37.88   \n",
              "1  8.3014      21.0  6.238137   0.971880      2401.0  2.109842     37.86   \n",
              "2  7.2574      52.0  8.288136   1.073446       496.0  2.802260     37.85   \n",
              "3  5.6431      52.0  5.817352   1.073059       558.0  2.547945     37.85   \n",
              "4  3.8462      52.0  6.281853   1.081081       565.0  2.181467     37.85   \n",
              "\n",
              "   Longitude  MedHouseVal  \n",
              "0    -122.23        4.526  \n",
              "1    -122.22        3.585  \n",
              "2    -122.24        3.521  \n",
              "3    -122.25        3.413  \n",
              "4    -122.25        3.422  "
            ],
            "text/html": [
              "\n",
              "  <div id=\"df-e9bdacd9-d051-47fd-81ee-0240c413b30a\">\n",
              "    <div class=\"colab-df-container\">\n",
              "      <div>\n",
              "<style scoped>\n",
              "    .dataframe tbody tr th:only-of-type {\n",
              "        vertical-align: middle;\n",
              "    }\n",
              "\n",
              "    .dataframe tbody tr th {\n",
              "        vertical-align: top;\n",
              "    }\n",
              "\n",
              "    .dataframe thead th {\n",
              "        text-align: right;\n",
              "    }\n",
              "</style>\n",
              "<table border=\"1\" class=\"dataframe\">\n",
              "  <thead>\n",
              "    <tr style=\"text-align: right;\">\n",
              "      <th></th>\n",
              "      <th>MedInc</th>\n",
              "      <th>HouseAge</th>\n",
              "      <th>AveRooms</th>\n",
              "      <th>AveBedrms</th>\n",
              "      <th>Population</th>\n",
              "      <th>AveOccup</th>\n",
              "      <th>Latitude</th>\n",
              "      <th>Longitude</th>\n",
              "      <th>MedHouseVal</th>\n",
              "    </tr>\n",
              "  </thead>\n",
              "  <tbody>\n",
              "    <tr>\n",
              "      <th>0</th>\n",
              "      <td>8.3252</td>\n",
              "      <td>41.0</td>\n",
              "      <td>6.984127</td>\n",
              "      <td>1.023810</td>\n",
              "      <td>322.0</td>\n",
              "      <td>2.555556</td>\n",
              "      <td>37.88</td>\n",
              "      <td>-122.23</td>\n",
              "      <td>4.526</td>\n",
              "    </tr>\n",
              "    <tr>\n",
              "      <th>1</th>\n",
              "      <td>8.3014</td>\n",
              "      <td>21.0</td>\n",
              "      <td>6.238137</td>\n",
              "      <td>0.971880</td>\n",
              "      <td>2401.0</td>\n",
              "      <td>2.109842</td>\n",
              "      <td>37.86</td>\n",
              "      <td>-122.22</td>\n",
              "      <td>3.585</td>\n",
              "    </tr>\n",
              "    <tr>\n",
              "      <th>2</th>\n",
              "      <td>7.2574</td>\n",
              "      <td>52.0</td>\n",
              "      <td>8.288136</td>\n",
              "      <td>1.073446</td>\n",
              "      <td>496.0</td>\n",
              "      <td>2.802260</td>\n",
              "      <td>37.85</td>\n",
              "      <td>-122.24</td>\n",
              "      <td>3.521</td>\n",
              "    </tr>\n",
              "    <tr>\n",
              "      <th>3</th>\n",
              "      <td>5.6431</td>\n",
              "      <td>52.0</td>\n",
              "      <td>5.817352</td>\n",
              "      <td>1.073059</td>\n",
              "      <td>558.0</td>\n",
              "      <td>2.547945</td>\n",
              "      <td>37.85</td>\n",
              "      <td>-122.25</td>\n",
              "      <td>3.413</td>\n",
              "    </tr>\n",
              "    <tr>\n",
              "      <th>4</th>\n",
              "      <td>3.8462</td>\n",
              "      <td>52.0</td>\n",
              "      <td>6.281853</td>\n",
              "      <td>1.081081</td>\n",
              "      <td>565.0</td>\n",
              "      <td>2.181467</td>\n",
              "      <td>37.85</td>\n",
              "      <td>-122.25</td>\n",
              "      <td>3.422</td>\n",
              "    </tr>\n",
              "  </tbody>\n",
              "</table>\n",
              "</div>\n",
              "      <button class=\"colab-df-convert\" onclick=\"convertToInteractive('df-e9bdacd9-d051-47fd-81ee-0240c413b30a')\"\n",
              "              title=\"Convert this dataframe to an interactive table.\"\n",
              "              style=\"display:none;\">\n",
              "        \n",
              "  <svg xmlns=\"http://www.w3.org/2000/svg\" height=\"24px\"viewBox=\"0 0 24 24\"\n",
              "       width=\"24px\">\n",
              "    <path d=\"M0 0h24v24H0V0z\" fill=\"none\"/>\n",
              "    <path d=\"M18.56 5.44l.94 2.06.94-2.06 2.06-.94-2.06-.94-.94-2.06-.94 2.06-2.06.94zm-11 1L8.5 8.5l.94-2.06 2.06-.94-2.06-.94L8.5 2.5l-.94 2.06-2.06.94zm10 10l.94 2.06.94-2.06 2.06-.94-2.06-.94-.94-2.06-.94 2.06-2.06.94z\"/><path d=\"M17.41 7.96l-1.37-1.37c-.4-.4-.92-.59-1.43-.59-.52 0-1.04.2-1.43.59L10.3 9.45l-7.72 7.72c-.78.78-.78 2.05 0 2.83L4 21.41c.39.39.9.59 1.41.59.51 0 1.02-.2 1.41-.59l7.78-7.78 2.81-2.81c.8-.78.8-2.07 0-2.86zM5.41 20L4 18.59l7.72-7.72 1.47 1.35L5.41 20z\"/>\n",
              "  </svg>\n",
              "      </button>\n",
              "      \n",
              "  <style>\n",
              "    .colab-df-container {\n",
              "      display:flex;\n",
              "      flex-wrap:wrap;\n",
              "      gap: 12px;\n",
              "    }\n",
              "\n",
              "    .colab-df-convert {\n",
              "      background-color: #E8F0FE;\n",
              "      border: none;\n",
              "      border-radius: 50%;\n",
              "      cursor: pointer;\n",
              "      display: none;\n",
              "      fill: #1967D2;\n",
              "      height: 32px;\n",
              "      padding: 0 0 0 0;\n",
              "      width: 32px;\n",
              "    }\n",
              "\n",
              "    .colab-df-convert:hover {\n",
              "      background-color: #E2EBFA;\n",
              "      box-shadow: 0px 1px 2px rgba(60, 64, 67, 0.3), 0px 1px 3px 1px rgba(60, 64, 67, 0.15);\n",
              "      fill: #174EA6;\n",
              "    }\n",
              "\n",
              "    [theme=dark] .colab-df-convert {\n",
              "      background-color: #3B4455;\n",
              "      fill: #D2E3FC;\n",
              "    }\n",
              "\n",
              "    [theme=dark] .colab-df-convert:hover {\n",
              "      background-color: #434B5C;\n",
              "      box-shadow: 0px 1px 3px 1px rgba(0, 0, 0, 0.15);\n",
              "      filter: drop-shadow(0px 1px 2px rgba(0, 0, 0, 0.3));\n",
              "      fill: #FFFFFF;\n",
              "    }\n",
              "  </style>\n",
              "\n",
              "      <script>\n",
              "        const buttonEl =\n",
              "          document.querySelector('#df-e9bdacd9-d051-47fd-81ee-0240c413b30a button.colab-df-convert');\n",
              "        buttonEl.style.display =\n",
              "          google.colab.kernel.accessAllowed ? 'block' : 'none';\n",
              "\n",
              "        async function convertToInteractive(key) {\n",
              "          const element = document.querySelector('#df-e9bdacd9-d051-47fd-81ee-0240c413b30a');\n",
              "          const dataTable =\n",
              "            await google.colab.kernel.invokeFunction('convertToInteractive',\n",
              "                                                     [key], {});\n",
              "          if (!dataTable) return;\n",
              "\n",
              "          const docLinkHtml = 'Like what you see? Visit the ' +\n",
              "            '<a target=\"_blank\" href=https://colab.research.google.com/notebooks/data_table.ipynb>data table notebook</a>'\n",
              "            + ' to learn more about interactive tables.';\n",
              "          element.innerHTML = '';\n",
              "          dataTable['output_type'] = 'display_data';\n",
              "          await google.colab.output.renderOutput(dataTable, element);\n",
              "          const docLink = document.createElement('div');\n",
              "          docLink.innerHTML = docLinkHtml;\n",
              "          element.appendChild(docLink);\n",
              "        }\n",
              "      </script>\n",
              "    </div>\n",
              "  </div>\n",
              "  "
            ]
          },
          "metadata": {},
          "execution_count": 3
        }
      ]
    },
    {
      "cell_type": "code",
      "source": [
        "california_housing.data.head()"
      ],
      "metadata": {
        "colab": {
          "base_uri": "https://localhost:8080/",
          "height": 206
        },
        "id": "muHkcxEpFF-m",
        "outputId": "ac08fd6d-1238-4567-d95e-141ac90ee021"
      },
      "execution_count": 4,
      "outputs": [
        {
          "output_type": "execute_result",
          "data": {
            "text/plain": [
              "   MedInc  HouseAge  AveRooms  AveBedrms  Population  AveOccup  Latitude  \\\n",
              "0  8.3252      41.0  6.984127   1.023810       322.0  2.555556     37.88   \n",
              "1  8.3014      21.0  6.238137   0.971880      2401.0  2.109842     37.86   \n",
              "2  7.2574      52.0  8.288136   1.073446       496.0  2.802260     37.85   \n",
              "3  5.6431      52.0  5.817352   1.073059       558.0  2.547945     37.85   \n",
              "4  3.8462      52.0  6.281853   1.081081       565.0  2.181467     37.85   \n",
              "\n",
              "   Longitude  \n",
              "0    -122.23  \n",
              "1    -122.22  \n",
              "2    -122.24  \n",
              "3    -122.25  \n",
              "4    -122.25  "
            ],
            "text/html": [
              "\n",
              "  <div id=\"df-6589ed2d-5c16-4418-8dff-e99a6e611f90\">\n",
              "    <div class=\"colab-df-container\">\n",
              "      <div>\n",
              "<style scoped>\n",
              "    .dataframe tbody tr th:only-of-type {\n",
              "        vertical-align: middle;\n",
              "    }\n",
              "\n",
              "    .dataframe tbody tr th {\n",
              "        vertical-align: top;\n",
              "    }\n",
              "\n",
              "    .dataframe thead th {\n",
              "        text-align: right;\n",
              "    }\n",
              "</style>\n",
              "<table border=\"1\" class=\"dataframe\">\n",
              "  <thead>\n",
              "    <tr style=\"text-align: right;\">\n",
              "      <th></th>\n",
              "      <th>MedInc</th>\n",
              "      <th>HouseAge</th>\n",
              "      <th>AveRooms</th>\n",
              "      <th>AveBedrms</th>\n",
              "      <th>Population</th>\n",
              "      <th>AveOccup</th>\n",
              "      <th>Latitude</th>\n",
              "      <th>Longitude</th>\n",
              "    </tr>\n",
              "  </thead>\n",
              "  <tbody>\n",
              "    <tr>\n",
              "      <th>0</th>\n",
              "      <td>8.3252</td>\n",
              "      <td>41.0</td>\n",
              "      <td>6.984127</td>\n",
              "      <td>1.023810</td>\n",
              "      <td>322.0</td>\n",
              "      <td>2.555556</td>\n",
              "      <td>37.88</td>\n",
              "      <td>-122.23</td>\n",
              "    </tr>\n",
              "    <tr>\n",
              "      <th>1</th>\n",
              "      <td>8.3014</td>\n",
              "      <td>21.0</td>\n",
              "      <td>6.238137</td>\n",
              "      <td>0.971880</td>\n",
              "      <td>2401.0</td>\n",
              "      <td>2.109842</td>\n",
              "      <td>37.86</td>\n",
              "      <td>-122.22</td>\n",
              "    </tr>\n",
              "    <tr>\n",
              "      <th>2</th>\n",
              "      <td>7.2574</td>\n",
              "      <td>52.0</td>\n",
              "      <td>8.288136</td>\n",
              "      <td>1.073446</td>\n",
              "      <td>496.0</td>\n",
              "      <td>2.802260</td>\n",
              "      <td>37.85</td>\n",
              "      <td>-122.24</td>\n",
              "    </tr>\n",
              "    <tr>\n",
              "      <th>3</th>\n",
              "      <td>5.6431</td>\n",
              "      <td>52.0</td>\n",
              "      <td>5.817352</td>\n",
              "      <td>1.073059</td>\n",
              "      <td>558.0</td>\n",
              "      <td>2.547945</td>\n",
              "      <td>37.85</td>\n",
              "      <td>-122.25</td>\n",
              "    </tr>\n",
              "    <tr>\n",
              "      <th>4</th>\n",
              "      <td>3.8462</td>\n",
              "      <td>52.0</td>\n",
              "      <td>6.281853</td>\n",
              "      <td>1.081081</td>\n",
              "      <td>565.0</td>\n",
              "      <td>2.181467</td>\n",
              "      <td>37.85</td>\n",
              "      <td>-122.25</td>\n",
              "    </tr>\n",
              "  </tbody>\n",
              "</table>\n",
              "</div>\n",
              "      <button class=\"colab-df-convert\" onclick=\"convertToInteractive('df-6589ed2d-5c16-4418-8dff-e99a6e611f90')\"\n",
              "              title=\"Convert this dataframe to an interactive table.\"\n",
              "              style=\"display:none;\">\n",
              "        \n",
              "  <svg xmlns=\"http://www.w3.org/2000/svg\" height=\"24px\"viewBox=\"0 0 24 24\"\n",
              "       width=\"24px\">\n",
              "    <path d=\"M0 0h24v24H0V0z\" fill=\"none\"/>\n",
              "    <path d=\"M18.56 5.44l.94 2.06.94-2.06 2.06-.94-2.06-.94-.94-2.06-.94 2.06-2.06.94zm-11 1L8.5 8.5l.94-2.06 2.06-.94-2.06-.94L8.5 2.5l-.94 2.06-2.06.94zm10 10l.94 2.06.94-2.06 2.06-.94-2.06-.94-.94-2.06-.94 2.06-2.06.94z\"/><path d=\"M17.41 7.96l-1.37-1.37c-.4-.4-.92-.59-1.43-.59-.52 0-1.04.2-1.43.59L10.3 9.45l-7.72 7.72c-.78.78-.78 2.05 0 2.83L4 21.41c.39.39.9.59 1.41.59.51 0 1.02-.2 1.41-.59l7.78-7.78 2.81-2.81c.8-.78.8-2.07 0-2.86zM5.41 20L4 18.59l7.72-7.72 1.47 1.35L5.41 20z\"/>\n",
              "  </svg>\n",
              "      </button>\n",
              "      \n",
              "  <style>\n",
              "    .colab-df-container {\n",
              "      display:flex;\n",
              "      flex-wrap:wrap;\n",
              "      gap: 12px;\n",
              "    }\n",
              "\n",
              "    .colab-df-convert {\n",
              "      background-color: #E8F0FE;\n",
              "      border: none;\n",
              "      border-radius: 50%;\n",
              "      cursor: pointer;\n",
              "      display: none;\n",
              "      fill: #1967D2;\n",
              "      height: 32px;\n",
              "      padding: 0 0 0 0;\n",
              "      width: 32px;\n",
              "    }\n",
              "\n",
              "    .colab-df-convert:hover {\n",
              "      background-color: #E2EBFA;\n",
              "      box-shadow: 0px 1px 2px rgba(60, 64, 67, 0.3), 0px 1px 3px 1px rgba(60, 64, 67, 0.15);\n",
              "      fill: #174EA6;\n",
              "    }\n",
              "\n",
              "    [theme=dark] .colab-df-convert {\n",
              "      background-color: #3B4455;\n",
              "      fill: #D2E3FC;\n",
              "    }\n",
              "\n",
              "    [theme=dark] .colab-df-convert:hover {\n",
              "      background-color: #434B5C;\n",
              "      box-shadow: 0px 1px 3px 1px rgba(0, 0, 0, 0.15);\n",
              "      filter: drop-shadow(0px 1px 2px rgba(0, 0, 0, 0.3));\n",
              "      fill: #FFFFFF;\n",
              "    }\n",
              "  </style>\n",
              "\n",
              "      <script>\n",
              "        const buttonEl =\n",
              "          document.querySelector('#df-6589ed2d-5c16-4418-8dff-e99a6e611f90 button.colab-df-convert');\n",
              "        buttonEl.style.display =\n",
              "          google.colab.kernel.accessAllowed ? 'block' : 'none';\n",
              "\n",
              "        async function convertToInteractive(key) {\n",
              "          const element = document.querySelector('#df-6589ed2d-5c16-4418-8dff-e99a6e611f90');\n",
              "          const dataTable =\n",
              "            await google.colab.kernel.invokeFunction('convertToInteractive',\n",
              "                                                     [key], {});\n",
              "          if (!dataTable) return;\n",
              "\n",
              "          const docLinkHtml = 'Like what you see? Visit the ' +\n",
              "            '<a target=\"_blank\" href=https://colab.research.google.com/notebooks/data_table.ipynb>data table notebook</a>'\n",
              "            + ' to learn more about interactive tables.';\n",
              "          element.innerHTML = '';\n",
              "          dataTable['output_type'] = 'display_data';\n",
              "          await google.colab.output.renderOutput(dataTable, element);\n",
              "          const docLink = document.createElement('div');\n",
              "          docLink.innerHTML = docLinkHtml;\n",
              "          element.appendChild(docLink);\n",
              "        }\n",
              "      </script>\n",
              "    </div>\n",
              "  </div>\n",
              "  "
            ]
          },
          "metadata": {},
          "execution_count": 4
        }
      ]
    },
    {
      "cell_type": "code",
      "source": [
        "\n",
        "\n"
      ],
      "metadata": {
        "id": "YAe-PQwxFUvu"
      },
      "execution_count": 4,
      "outputs": []
    },
    {
      "cell_type": "markdown",
      "source": [
        "**IMPORTING** **TRAIN_TEST_SPLIT FROM SKLEARN**"
      ],
      "metadata": {
        "id": "y2h08LWhjZbN"
      }
    },
    {
      "cell_type": "code",
      "source": [
        "from sklearn.model_selection import train_test_split\n",
        "X=california_housing.frame.drop(['MedHouseVal'],axis=1).values  \n",
        "y=california_housing.frame[\"MedHouseVal\"].values\n"
      ],
      "metadata": {
        "id": "qi__60SQFxVi"
      },
      "execution_count": 8,
      "outputs": []
    },
    {
      "cell_type": "markdown",
      "source": [
        "**SCALING USING MINMAX SCALER**"
      ],
      "metadata": {
        "id": "QO6DOtNEjlBk"
      }
    },
    {
      "cell_type": "code",
      "source": [
        "# import module\n",
        "from sklearn.preprocessing import MinMaxScaler\n",
        "# scale features\n",
        "scaler = MinMaxScaler()\n",
        "model=scaler.fit(X)\n",
        "X=model.transform(X)\n",
        " \n",
        "# print scaled features\n",
        "print(scaled_data)"
      ],
      "metadata": {
        "colab": {
          "base_uri": "https://localhost:8080/"
        },
        "id": "m8FbbHvtKURa",
        "outputId": "c501819a-cb1a-4b29-bab5-aa7f010c62d5"
      },
      "execution_count": 11,
      "outputs": [
        {
          "output_type": "stream",
          "name": "stdout",
          "text": [
            "[[0.53966842 0.78431373 0.0435123  ... 0.5674814  0.21115538 0.90226638]\n",
            " [0.53802706 0.39215686 0.03822395 ... 0.565356   0.21215139 0.70824656]\n",
            " [0.46602805 1.         0.05275646 ... 0.5642933  0.21015936 0.69505074]\n",
            " ...\n",
            " [0.08276438 0.31372549 0.03090386 ... 0.73219979 0.31175299 0.15938285]\n",
            " [0.09429525 0.33333333 0.03178269 ... 0.73219979 0.30179283 0.14371281]\n",
            " [0.13025338 0.29411765 0.03125246 ... 0.72582359 0.30976096 0.15340349]]\n"
          ]
        }
      ]
    },
    {
      "cell_type": "code",
      "source": [
        "X_train, X_test, y_train, y_test = train_test_split(X, y, test_size=0.33, random_state=42)\n",
        "X_train.shape"
      ],
      "metadata": {
        "colab": {
          "base_uri": "https://localhost:8080/"
        },
        "id": "DWrcglKBNnl8",
        "outputId": "9661d797-7d77-4780-d618-6c5be31ef7d0"
      },
      "execution_count": 12,
      "outputs": [
        {
          "output_type": "execute_result",
          "data": {
            "text/plain": [
              "(13828, 8)"
            ]
          },
          "metadata": {},
          "execution_count": 12
        }
      ]
    },
    {
      "cell_type": "markdown",
      "source": [
        "## **Using the sequential API build a regression MLP**"
      ],
      "metadata": {
        "id": "QkbR9kQ1jyL2"
      }
    },
    {
      "cell_type": "code",
      "source": [
        "model1=tf.keras.Sequential()\n",
        "\n",
        "model1.add(tf.keras.layers.Dense(30, activation='relu',name=\"HiddenLayer1\", input_dim=8))\n",
        "\n",
        "model1.add(tf.keras.layers.Dense(1, activation='linear',name=\"OutputLayer\"))"
      ],
      "metadata": {
        "id": "JX4r5snNKySj"
      },
      "execution_count": 13,
      "outputs": []
    },
    {
      "cell_type": "code",
      "source": [
        "model1.summary()"
      ],
      "metadata": {
        "colab": {
          "base_uri": "https://localhost:8080/"
        },
        "id": "MdQ1zwSJOkVn",
        "outputId": "0638abd3-b336-4276-c1fd-e1382965e8ce"
      },
      "execution_count": 14,
      "outputs": [
        {
          "output_type": "stream",
          "name": "stdout",
          "text": [
            "Model: \"sequential_1\"\n",
            "_________________________________________________________________\n",
            " Layer (type)                Output Shape              Param #   \n",
            "=================================================================\n",
            " HiddenLayer1 (Dense)        (None, 30)                270       \n",
            "                                                                 \n",
            " OutputLayer (Dense)         (None, 1)                 31        \n",
            "                                                                 \n",
            "=================================================================\n",
            "Total params: 301\n",
            "Trainable params: 301\n",
            "Non-trainable params: 0\n",
            "_________________________________________________________________\n"
          ]
        }
      ]
    },
    {
      "cell_type": "code",
      "source": [
        "model1.compile(loss =tf.keras.losses.MeanSquaredError(), optimizer = \"adam\", metrics=tf.keras.metrics.RootMeanSquaredError())\n",
        "\n",
        "history= model1.fit(X_train, y_train, batch_size = 32, epochs = 20,validation_split=0.2)"
      ],
      "metadata": {
        "colab": {
          "base_uri": "https://localhost:8080/"
        },
        "id": "ZVxEd89mOqc_",
        "outputId": "b795f0a4-7ffb-4a5a-d025-6450303bd413"
      },
      "execution_count": 15,
      "outputs": [
        {
          "output_type": "stream",
          "name": "stdout",
          "text": [
            "Epoch 1/20\n",
            "346/346 [==============================] - 1s 3ms/step - loss: 2.2025 - root_mean_squared_error: 1.4841 - val_loss: 1.0448 - val_root_mean_squared_error: 1.0222\n",
            "Epoch 2/20\n",
            "346/346 [==============================] - 1s 2ms/step - loss: 0.8902 - root_mean_squared_error: 0.9435 - val_loss: 0.7929 - val_root_mean_squared_error: 0.8905\n",
            "Epoch 3/20\n",
            "346/346 [==============================] - 1s 2ms/step - loss: 0.6701 - root_mean_squared_error: 0.8186 - val_loss: 0.6435 - val_root_mean_squared_error: 0.8022\n",
            "Epoch 4/20\n",
            "346/346 [==============================] - 1s 2ms/step - loss: 0.5980 - root_mean_squared_error: 0.7733 - val_loss: 0.6154 - val_root_mean_squared_error: 0.7845\n",
            "Epoch 5/20\n",
            "346/346 [==============================] - 1s 2ms/step - loss: 0.5799 - root_mean_squared_error: 0.7615 - val_loss: 0.6018 - val_root_mean_squared_error: 0.7757\n",
            "Epoch 6/20\n",
            "346/346 [==============================] - 1s 2ms/step - loss: 0.5686 - root_mean_squared_error: 0.7541 - val_loss: 0.6053 - val_root_mean_squared_error: 0.7780\n",
            "Epoch 7/20\n",
            "346/346 [==============================] - 1s 2ms/step - loss: 0.5595 - root_mean_squared_error: 0.7480 - val_loss: 0.5840 - val_root_mean_squared_error: 0.7642\n",
            "Epoch 8/20\n",
            "346/346 [==============================] - 1s 2ms/step - loss: 0.5516 - root_mean_squared_error: 0.7427 - val_loss: 0.5839 - val_root_mean_squared_error: 0.7641\n",
            "Epoch 9/20\n",
            "346/346 [==============================] - 2s 5ms/step - loss: 0.5440 - root_mean_squared_error: 0.7375 - val_loss: 0.5711 - val_root_mean_squared_error: 0.7557\n",
            "Epoch 10/20\n",
            "346/346 [==============================] - 2s 5ms/step - loss: 0.5359 - root_mean_squared_error: 0.7320 - val_loss: 0.5659 - val_root_mean_squared_error: 0.7522\n",
            "Epoch 11/20\n",
            "346/346 [==============================] - 2s 5ms/step - loss: 0.5305 - root_mean_squared_error: 0.7283 - val_loss: 0.5721 - val_root_mean_squared_error: 0.7564\n",
            "Epoch 12/20\n",
            "346/346 [==============================] - 1s 2ms/step - loss: 0.5262 - root_mean_squared_error: 0.7254 - val_loss: 0.5612 - val_root_mean_squared_error: 0.7492\n",
            "Epoch 13/20\n",
            "346/346 [==============================] - 1s 2ms/step - loss: 0.5204 - root_mean_squared_error: 0.7214 - val_loss: 0.5583 - val_root_mean_squared_error: 0.7472\n",
            "Epoch 14/20\n",
            "346/346 [==============================] - 1s 2ms/step - loss: 0.5163 - root_mean_squared_error: 0.7185 - val_loss: 0.5540 - val_root_mean_squared_error: 0.7443\n",
            "Epoch 15/20\n",
            "346/346 [==============================] - 1s 2ms/step - loss: 0.5121 - root_mean_squared_error: 0.7156 - val_loss: 0.5464 - val_root_mean_squared_error: 0.7392\n",
            "Epoch 16/20\n",
            "346/346 [==============================] - 1s 2ms/step - loss: 0.5085 - root_mean_squared_error: 0.7131 - val_loss: 0.5438 - val_root_mean_squared_error: 0.7374\n",
            "Epoch 17/20\n",
            "346/346 [==============================] - 1s 2ms/step - loss: 0.5063 - root_mean_squared_error: 0.7116 - val_loss: 0.5412 - val_root_mean_squared_error: 0.7356\n",
            "Epoch 18/20\n",
            "346/346 [==============================] - 1s 2ms/step - loss: 0.5028 - root_mean_squared_error: 0.7091 - val_loss: 0.5474 - val_root_mean_squared_error: 0.7399\n",
            "Epoch 19/20\n",
            "346/346 [==============================] - 1s 2ms/step - loss: 0.4993 - root_mean_squared_error: 0.7066 - val_loss: 0.5364 - val_root_mean_squared_error: 0.7324\n",
            "Epoch 20/20\n",
            "346/346 [==============================] - 1s 2ms/step - loss: 0.4983 - root_mean_squared_error: 0.7059 - val_loss: 0.5353 - val_root_mean_squared_error: 0.7317\n"
          ]
        }
      ]
    },
    {
      "cell_type": "code",
      "source": [
        "# Plotting and Visualising\n",
        "\n",
        "\n",
        "\n",
        "modelmse = history.history[\"root_mean_squared_error\"]\n",
        "\n",
        "modelvmse = history.history[\"val_root_mean_squared_error\"]\n",
        "\n",
        "modelloss = history.history[\"loss\"]\n",
        "\n",
        "modelvalloss = history.history[\"val_loss\"]\n",
        "\n",
        "epochs_list = range(1,21)\n",
        "\n",
        "\n",
        "\n",
        "plt.plot(epochs_list, modelmse, 'blue', label='Training MSE')\n",
        "\n",
        "plt.plot(epochs_list, modelvmse, 'red', label='Validation MSE')\n",
        "\n",
        "plt.xlabel('Epochs')\n",
        "\n",
        "plt.ylabel('MSE')\n",
        "\n",
        "plt.title('MSE curve with Epochs')\n",
        "\n",
        "plt.legend()\n",
        "\n",
        "plt.show()\n",
        "\n",
        "\n",
        "\n",
        "#Loss Plot\n",
        "\n",
        "plt.plot(epochs_list, modelloss, 'green', label=\"Loss\")\n",
        "\n",
        "plt.plot(epochs_list, modelvalloss, 'purple', label=\"Validation Loss\")\n",
        "\n",
        "plt.xlabel('Epochs')\n",
        "\n",
        "plt.ylabel('Loss')\n",
        "\n",
        "plt.title('Loss curve with Epochs')\n",
        "\n",
        "plt.legend()\n",
        "\n",
        "plt.show()"
      ],
      "metadata": {
        "colab": {
          "base_uri": "https://localhost:8080/",
          "height": 573
        },
        "id": "R6DZMCpuPLJV",
        "outputId": "89339c57-8f26-4cd7-acce-f65ee5aadc89"
      },
      "execution_count": 30,
      "outputs": [
        {
          "output_type": "display_data",
          "data": {
            "text/plain": [
              "<Figure size 432x288 with 1 Axes>"
            ],
            "image/png": "[encoded data removed]"
          },
          "metadata": {
            "needs_background": "light"
          }
        },
        {
          "output_type": "display_data",
          "data": {
            "text/plain": [
              "<Figure size 432x288 with 1 Axes>"
            ],
            "image/png": "[encoded data removed]"
          },
          "metadata": {
            "needs_background": "light"
          }
        }
      ]
    },
    {
      "cell_type": "markdown",
      "source": [
        "# **Using functional API build the following Wide & Deep Neural Network**"
      ],
      "metadata": {
        "id": "NuZ6jN7Yj-XG"
      }
    },
    {
      "cell_type": "code",
      "source": [
        "from numpy.core.multiarray import concatenate\n",
        "inputA=tf.keras.layers.Input(shape=[5])\n",
        "inputB=tf.keras.layers.Input(shape=[6])\n",
        "hidden1=tf.keras.layers.Dense(30, activation='relu',name=\"HiddenLayer1\")(inputB)\n",
        "hidden2=tf.keras.layers.Dense(30, activation=\"relu\",name=\"HiddenLayer2\")(hidden1)\n",
        "\n",
        "merge=tf.keras.layers.Concatenate()([inputA,hidden2])\n",
        "output=tf.keras.layers.Dense(1, activation=\"linear\",name=\"OutputLayer\")(merge)\n",
        "\n",
        "model2 = tf.keras.models.Model(inputs=[inputA, inputB], outputs=output)"
      ],
      "metadata": {
        "id": "lBLSdXo4UxmJ"
      },
      "execution_count": 24,
      "outputs": []
    },
    {
      "cell_type": "code",
      "source": [
        "inputA=X_train[:,:5]\n",
        "inputB=X_train[:,2:]"
      ],
      "metadata": {
        "id": "HrtzkRcdcJZ0"
      },
      "execution_count": 25,
      "outputs": []
    },
    {
      "cell_type": "code",
      "source": [
        "model2.compile(loss =tf.keras.losses.MeanSquaredError(), optimizer = \"adam\", metrics=[tf.keras.metrics.RootMeanSquaredError()])\n",
        "\n",
        "a= model2.fit([inputA,inputB], y_train, batch_size = 32, epochs = 20,validation_split=0.1275)"
      ],
      "metadata": {
        "colab": {
          "base_uri": "https://localhost:8080/"
        },
        "id": "om2ChWK5XrNc",
        "outputId": "41755bb0-68eb-4c50-a999-fcf8069dc7e8"
      },
      "execution_count": 32,
      "outputs": [
        {
          "output_type": "stream",
          "name": "stdout",
          "text": [
            "Epoch 1/20\n",
            "377/377 [==============================] - 2s 3ms/step - loss: 0.3586 - root_mean_squared_error: 0.5989 - val_loss: 0.3970 - val_root_mean_squared_error: 0.6301\n",
            "Epoch 2/20\n",
            "377/377 [==============================] - 1s 2ms/step - loss: 0.3557 - root_mean_squared_error: 0.5964 - val_loss: 0.4022 - val_root_mean_squared_error: 0.6342\n",
            "Epoch 3/20\n",
            "377/377 [==============================] - 1s 2ms/step - loss: 0.3587 - root_mean_squared_error: 0.5989 - val_loss: 0.3807 - val_root_mean_squared_error: 0.6170\n",
            "Epoch 4/20\n",
            "377/377 [==============================] - 1s 2ms/step - loss: 0.3532 - root_mean_squared_error: 0.5943 - val_loss: 0.3774 - val_root_mean_squared_error: 0.6143\n",
            "Epoch 5/20\n",
            "377/377 [==============================] - 1s 3ms/step - loss: 0.3501 - root_mean_squared_error: 0.5917 - val_loss: 0.3780 - val_root_mean_squared_error: 0.6149\n",
            "Epoch 6/20\n",
            "377/377 [==============================] - 1s 4ms/step - loss: 0.3498 - root_mean_squared_error: 0.5914 - val_loss: 0.3750 - val_root_mean_squared_error: 0.6123\n",
            "Epoch 7/20\n",
            "377/377 [==============================] - 1s 2ms/step - loss: 0.3489 - root_mean_squared_error: 0.5907 - val_loss: 0.3680 - val_root_mean_squared_error: 0.6066\n",
            "Epoch 8/20\n",
            "377/377 [==============================] - 2s 4ms/step - loss: 0.3461 - root_mean_squared_error: 0.5883 - val_loss: 0.3641 - val_root_mean_squared_error: 0.6034\n",
            "Epoch 9/20\n",
            "377/377 [==============================] - 1s 3ms/step - loss: 0.3427 - root_mean_squared_error: 0.5854 - val_loss: 0.3831 - val_root_mean_squared_error: 0.6189\n",
            "Epoch 10/20\n",
            "377/377 [==============================] - 1s 3ms/step - loss: 0.3420 - root_mean_squared_error: 0.5848 - val_loss: 0.3597 - val_root_mean_squared_error: 0.5998\n",
            "Epoch 11/20\n",
            "377/377 [==============================] - 1s 4ms/step - loss: 0.3414 - root_mean_squared_error: 0.5843 - val_loss: 0.3576 - val_root_mean_squared_error: 0.5980\n",
            "Epoch 12/20\n",
            "377/377 [==============================] - 1s 3ms/step - loss: 0.3383 - root_mean_squared_error: 0.5816 - val_loss: 0.3609 - val_root_mean_squared_error: 0.6007\n",
            "Epoch 13/20\n",
            "377/377 [==============================] - 1s 4ms/step - loss: 0.3392 - root_mean_squared_error: 0.5824 - val_loss: 0.3594 - val_root_mean_squared_error: 0.5995\n",
            "Epoch 14/20\n",
            "377/377 [==============================] - 1s 3ms/step - loss: 0.3420 - root_mean_squared_error: 0.5848 - val_loss: 0.3612 - val_root_mean_squared_error: 0.6010\n",
            "Epoch 15/20\n",
            "377/377 [==============================] - 1s 2ms/step - loss: 0.3385 - root_mean_squared_error: 0.5818 - val_loss: 0.3692 - val_root_mean_squared_error: 0.6077\n",
            "Epoch 16/20\n",
            "377/377 [==============================] - 1s 2ms/step - loss: 0.3360 - root_mean_squared_error: 0.5797 - val_loss: 0.3632 - val_root_mean_squared_error: 0.6027\n",
            "Epoch 17/20\n",
            "377/377 [==============================] - 1s 2ms/step - loss: 0.3299 - root_mean_squared_error: 0.5744 - val_loss: 0.3634 - val_root_mean_squared_error: 0.6028\n",
            "Epoch 18/20\n",
            "377/377 [==============================] - 2s 5ms/step - loss: 0.3342 - root_mean_squared_error: 0.5781 - val_loss: 0.3604 - val_root_mean_squared_error: 0.6004\n",
            "Epoch 19/20\n",
            "377/377 [==============================] - 2s 5ms/step - loss: 0.3336 - root_mean_squared_error: 0.5776 - val_loss: 0.3755 - val_root_mean_squared_error: 0.6128\n",
            "Epoch 20/20\n",
            "377/377 [==============================] - 1s 3ms/step - loss: 0.3330 - root_mean_squared_error: 0.5771 - val_loss: 0.3591 - val_root_mean_squared_error: 0.5992\n"
          ]
        }
      ]
    },
    {
      "cell_type": "code",
      "source": [
        "# Plotting and Visualising\n",
        "\n",
        "\n",
        "\n",
        "modelmse =  a.history[\"root_mean_squared_error\"]\n",
        "\n",
        "modelvmse = a.history[\"val_root_mean_squared_error\"]\n",
        "\n",
        "modelloss = a.history[\"loss\"]\n",
        "\n",
        "modelvalloss = a.history[\"val_loss\"]\n",
        "\n",
        "epochs_list = range(1,21)\n",
        "\n",
        "\n",
        "\n",
        "plt.plot(epochs_list, modelmse, 'blue', label='Training MSE')\n",
        "\n",
        "plt.plot(epochs_list, modelvmse, 'red', label='Validation MSE')\n",
        "\n",
        "plt.xlabel('Epochs')\n",
        "\n",
        "plt.ylabel('MSE')\n",
        "\n",
        "plt.title('MSE curve with Epochs')\n",
        "\n",
        "plt.legend()\n",
        "\n",
        "plt.show()\n",
        "\n",
        "\n",
        "\n",
        "#Loss Plot\n",
        "\n",
        "plt.plot(epochs_list, modelloss, 'green', label=\"Loss\")\n",
        "\n",
        "plt.plot(epochs_list, modelvalloss, 'purple', label=\"Validation Loss\")\n",
        "\n",
        "plt.xlabel('Epochs')\n",
        "\n",
        "plt.ylabel('Loss')\n",
        "\n",
        "plt.title('Loss curve with Epochs')\n",
        "\n",
        "plt.legend()\n",
        "\n",
        "plt.show()"
      ],
      "metadata": {
        "colab": {
          "base_uri": "https://localhost:8080/",
          "height": 573
        },
        "id": "_-o9lmAfb67T",
        "outputId": "074cf4ef-bcf3-480d-fa5e-9d6f0e637ff8"
      },
      "execution_count": 33,
      "outputs": [
        {
          "output_type": "display_data",
          "data": {
            "text/plain": [
              "<Figure size 432x288 with 1 Axes>"
            ],
            "image/png": "[encoded data removed]"
          },
          "metadata": {
            "needs_background": "light"
          }
        },
        {
          "output_type": "display_data",
          "data": {
            "text/plain": [
              "<Figure size 432x288 with 1 Axes>"
            ],
            "image/png": "[encoded data removed]"
          },
          "metadata": {
            "needs_background": "light"
          }
        }
      ]
    },
    {
      "cell_type": "markdown",
      "source": [
        "# The validation rmse(accuracy) of model1 is 0.731 and loss(mse) in 0.53.\n",
        "# The validation rmse(accuracy) of model2 is 0.599 and loss(mse) is 0.35.\n",
        "\n",
        "# Thus the model 2 works better on california_housing dataset.\n",
        "\n"
      ],
      "metadata": {
        "id": "Kkn39Y6rigjV"
      }
    },
    {
      "cell_type": "code",
      "source": [
        ""
      ],
      "metadata": {
        "id": "5fxOx9x8e7AS"
      },
      "execution_count": null,
      "outputs": []
    }
  ]
}